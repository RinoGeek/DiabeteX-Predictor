{
  "nbformat": 4,
  "nbformat_minor": 0,
  "metadata": {
    "colab": {
      "provenance": [],
      "authorship_tag": "ABX9TyOYCe2LRHngyGnSoMQ9DAEk",
      "include_colab_link": true
    },
    "kernelspec": {
      "name": "python3",
      "display_name": "Python 3"
    },
    "language_info": {
      "name": "python"
    }
  },
  "cells": [
    {
      "cell_type": "markdown",
      "metadata": {
        "id": "view-in-github",
        "colab_type": "text"
      },
      "source": [
        "<a href=\"https://colab.research.google.com/github/RinoGeek/DiabeteX-Predictor/blob/main/GesturaNet.ipynb\" target=\"_parent\"><img src=\"https://colab.research.google.com/assets/colab-badge.svg\" alt=\"Open In Colab\"/></a>"
      ]
    },
    {
      "cell_type": "code",
      "execution_count": 7,
      "metadata": {
        "id": "9oyJTey_YeGY"
      },
      "outputs": [],
      "source": [
        "import os\n",
        "import cv2\n",
        "import numpy as np\n",
        "import matplotlib.pyplot as plt\n",
        "from sklearn.preprocessing import LabelEncoder\n",
        "from keras.models import Sequential\n",
        "from keras.layers import Dense, MaxPooling2D, Conv2D, Flatten, Dropout\n",
        "from keras.utils import to_categorical\n",
        "from PIL.Image import Resampling\n",
        "from keras.utils import load_img, img_to_array"
      ]
    },
    {
      "cell_type": "code",
      "source": [
        "#!unzip /content/drive/MyDrive/other-code-computer-vision/brail.zip"
      ],
      "metadata": {
        "id": "7UfEjUXYP4mD"
      },
      "execution_count": 8,
      "outputs": []
    },
    {
      "cell_type": "code",
      "source": [
        "train = \"/content/brail/train\"\n",
        "test = \"/content/brail/test\""
      ],
      "metadata": {
        "id": "P3RWUHlHQTZu"
      },
      "execution_count": 9,
      "outputs": []
    },
    {
      "cell_type": "code",
      "source": [
        "def load_data(data_dir):\n",
        "    X = []\n",
        "    y = []\n",
        "    # Initialiser le label encoder\n",
        "    label_encoder = LabelEncoder()\n",
        "    img_width, img_height = 250, 250\n",
        "\n",
        "    # Parcourir les sous-répertoires dans le répertoire de données principal\n",
        "    for class_dir in os.listdir(data_dir):\n",
        "        if os.listdir:\n",
        "            # Construire le chemin vers le sous-répertoire de classe actuel\n",
        "            class_path = os.path.join(data_dir, class_dir)\n",
        "\n",
        "            # Encoder le nom de la classe en utilisant le label encoder\n",
        "            class_label = label_encoder.fit_transform([class_dir])[0]\n",
        "\n",
        "        # Parcourir les images dans le sous-répertoire de classe actuel\n",
        "        for img_name in os.listdir(class_path):\n",
        "            # Construire le chemin vers l'image actuelle\n",
        "            img_path = os.path.join(class_path, img_name)\n",
        "            # Charger l'image à partir du chemin\n",
        "            img = load_img(img_path, color_mode=\"grayscale\")\n",
        "            img = img.resize((img_width, img_height), resample=Resampling.BICUBIC)\n",
        "            img_array = img_to_array(img)\n",
        "\n",
        "            # Remodeler le tableau d'image pour correspondre à la forme d'entrée attendue pour le modèle\n",
        "            img_array = img_array.reshape(img_width, img_height, 1).astype('float32')\n",
        "            X.append(img_array)  # Ajouter le tableau d'image à la liste des images\n",
        "            y.append(class_label)  # Ajouter l'étiquette encodée à la liste des étiquettes\n",
        "    return np.array(X), np.array(y)  # Convertir les listes en tableaux NumPy et les retourner\n"
      ],
      "metadata": {
        "id": "ydnRwhbNk7CE"
      },
      "execution_count": 10,
      "outputs": []
    },
    {
      "cell_type": "code",
      "source": [
        "xtrain, ytrain = load_data(train)"
      ],
      "metadata": {
        "id": "vqJMPSGCk7IF"
      },
      "execution_count": null,
      "outputs": []
    },
    {
      "cell_type": "code",
      "source": [
        "xtest, ytest = load_data(test)"
      ],
      "metadata": {
        "id": "wumSyUG0k7La"
      },
      "execution_count": null,
      "outputs": []
    },
    {
      "cell_type": "code",
      "source": [
        "xtrain /= 255\n",
        "xtest /= 255"
      ],
      "metadata": {
        "id": "YboeqdCEk7PC"
      },
      "execution_count": null,
      "outputs": []
    },
    {
      "cell_type": "code",
      "source": [
        "# Créer un modèle séquentiel\n",
        "model = Sequential()\n",
        "img_width, img_height = 250, 250\n",
        "# Ajouter une couche de convolution 2D avec 32 filtres, une taille de noyau de 3x3 et une fonction d'activation ReLU\n",
        "model.add(Conv2D(32, (3, 3), activation='relu', input_shape=(img_width, img_height, 3)))\n",
        "\n",
        "# Ajouter une couche de max pooling 2D\n",
        "model.add(MaxPooling2D((2, 2)))\n",
        "\n",
        "# Ajouter une autre couche de convolution 2D avec 64 filtres et une taille de noyau de 3x3\n",
        "model.add(Conv2D(64, (3, 3), activation='relu'))\n",
        "\n",
        "# Ajouter une autre couche de max pooling 2D\n",
        "model.add(MaxPooling2D((2, 2)))\n",
        "\n",
        "# Ajouter une autre couche de convolution 2D avec 128 filtres et une taille de noyau de 3x3\n",
        "model.add(Conv2D(128, (3, 3), activation='relu'))\n",
        "\n",
        "# Ajouter une autre couche de max pooling 2D\n",
        "model.add(MaxPooling2D((2, 2)))\n",
        "\n",
        "# Aplatir les données pour les passer à travers des couches entièrement connectées\n",
        "model.add(Flatten())\n",
        "\n",
        "# Ajouter une couche entièrement connectée avec 512 neurones et une fonction d'activation ReLU\n",
        "model.add(Dense(512, activation='relu'))\n",
        "\n",
        "# Ajouter une couche de dropout pour éviter le surapprentissage\n",
        "model.add(Dropout(0.5))\n",
        "\n",
        "# Ajouter une couche de sortie avec un nombre d'unités égal au nombre de classes et une fonction d'activation softmax\n",
        "model.add(Dense(29, activation='softmax'))\n",
        "\n",
        "# Compiler le modèle en spécifiant la fonction de perte, l'optimiseur et les métriques à surveiller\n",
        "model.compile(loss='categorical_crossentropy', optimizer='adam', metrics=['accuracy'])\n",
        "\n",
        "# Afficher un résumé de l'architecture du modèle\n",
        "model.summary()\n"
      ],
      "metadata": {
        "id": "R9ao3y_Ok7Rz"
      },
      "execution_count": null,
      "outputs": []
    },
    {
      "cell_type": "code",
      "source": [],
      "metadata": {
        "id": "ga3815sxbTyA"
      },
      "execution_count": null,
      "outputs": []
    }
  ]
}